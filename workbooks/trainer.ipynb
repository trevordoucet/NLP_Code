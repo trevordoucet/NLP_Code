{
 "cells": [
  {
   "cell_type": "markdown",
   "metadata": {},
   "source": [
    "## Imports"
   ]
  },
  {
   "cell_type": "code",
   "execution_count": 20,
   "metadata": {},
   "outputs": [],
   "source": [
    "import nltk\n",
    "import os\n",
    "import math\n",
    "import torch\n",
    "import random\n",
    "import pandas as pd\n",
    "import matplotlib.pyplot as plt\n",
    "from evaluate import load as load_metric\n",
    "from datasets import Dataset, DatasetDict\n",
    "from sklearn.model_selection import train_test_split\n",
    "from sklearn.metrics.pairwise import cosine_similarity\n",
    "from sklearn.feature_extraction.text import TfidfVectorizer\n",
    "from transformers import (\n",
    "    BartTokenizer, \n",
    "    BartForConditionalGeneration, \n",
    "    TrainingArguments, \n",
    "    Trainer,\n",
    "    TrainerCallback,\n",
    "    EarlyStoppingCallback)"
   ]
  },
  {
   "cell_type": "code",
   "execution_count": 21,
   "metadata": {},
   "outputs": [],
   "source": [
    "nltk.download('punkt', quiet=True)\n",
    "nltk.data.path.append('/Users/trevordoucet/nltk_data')\n",
    "os.environ['NLTK_DATA'] = '/Users/trevordoucet/nltk_data'"
   ]
  },
  {
   "cell_type": "markdown",
   "metadata": {},
   "source": [
    "Training, Test, Validation Data"
   ]
  },
  {
   "cell_type": "code",
   "execution_count": 47,
   "metadata": {},
   "outputs": [],
   "source": [
    "df = pd.read_excel('../data/final_descriptions.xlsx')"
   ]
  },
  {
   "cell_type": "markdown",
   "metadata": {},
   "source": [
    "## Loading Pre-Trained Model & Training"
   ]
  },
  {
   "cell_type": "markdown",
   "metadata": {},
   "source": [
    "### Model 1: Facebook / Bart Large - CNN"
   ]
  },
  {
   "cell_type": "markdown",
   "metadata": {},
   "source": [
    "https://huggingface.co/facebook/bart-large-cnn"
   ]
  },
  {
   "cell_type": "markdown",
   "metadata": {},
   "source": [
    "Training setup"
   ]
  },
  {
   "cell_type": "code",
   "execution_count": 48,
   "metadata": {},
   "outputs": [
    {
     "name": "stderr",
     "output_type": "stream",
     "text": [
      "Map:   0%|          | 0/7740 [00:00<?, ? examples/s]/Users/trevordoucet/Library/Python/3.9/lib/python/site-packages/transformers/tokenization_utils_base.py:3980: UserWarning: `as_target_tokenizer` is deprecated and will be removed in v5 of Transformers. You can tokenize your labels by using the argument `text_target` of the regular `__call__` method (either in the same call as your input texts if you use the same keyword arguments, or in a separate call.\n",
      "  warnings.warn(\n",
      "Map: 100%|██████████| 7740/7740 [00:02<00:00, 2905.61 examples/s]\n",
      "Map: 100%|██████████| 967/967 [00:00<00:00, 2356.30 examples/s]\n",
      "Map: 100%|██████████| 968/968 [00:00<00:00, 2359.19 examples/s]\n",
      "/Users/trevordoucet/Library/Python/3.9/lib/python/site-packages/transformers/training_args.py:1611: FutureWarning: `evaluation_strategy` is deprecated and will be removed in version 4.46 of 🤗 Transformers. Use `eval_strategy` instead\n",
      "  warnings.warn(\n",
      "/var/folders/c9/nckl2xts1ys2_knbj2y1562h0000gn/T/ipykernel_871/592039975.py:75: FutureWarning: `tokenizer` is deprecated and will be removed in version 5.0.0 for `Trainer.__init__`. Use `processing_class` instead.\n",
      "  trainer = Trainer(\n"
     ]
    },
    {
     "data": {
      "text/html": [
       "\n",
       "    <div>\n",
       "      \n",
       "      <progress value='1935' max='1935' style='width:300px; height:20px; vertical-align: middle;'></progress>\n",
       "      [1935/1935 20:47, Epoch 1/1]\n",
       "    </div>\n",
       "    <table border=\"1\" class=\"dataframe\">\n",
       "  <thead>\n",
       " <tr style=\"text-align: left;\">\n",
       "      <th>Step</th>\n",
       "      <th>Training Loss</th>\n",
       "      <th>Validation Loss</th>\n",
       "    </tr>\n",
       "  </thead>\n",
       "  <tbody>\n",
       "    <tr>\n",
       "      <td>500</td>\n",
       "      <td>1.040100</td>\n",
       "      <td>1.020923</td>\n",
       "    </tr>\n",
       "    <tr>\n",
       "      <td>1000</td>\n",
       "      <td>1.054600</td>\n",
       "      <td>1.005842</td>\n",
       "    </tr>\n",
       "    <tr>\n",
       "      <td>1500</td>\n",
       "      <td>1.041000</td>\n",
       "      <td>0.994388</td>\n",
       "    </tr>\n",
       "  </tbody>\n",
       "</table><p>"
      ],
      "text/plain": [
       "<IPython.core.display.HTML object>"
      ]
     },
     "metadata": {},
     "output_type": "display_data"
    },
    {
     "name": "stdout",
     "output_type": "stream",
     "text": [
      "{'loss': 1.1543, 'grad_norm': 2.6205241680145264, 'learning_rate': 1.9483204134366928e-05, 'epoch': 0.025839793281653745}\n",
      "{'loss': 1.1049, 'grad_norm': 2.2728419303894043, 'learning_rate': 1.896640826873385e-05, 'epoch': 0.05167958656330749}\n",
      "{'loss': 1.0919, 'grad_norm': 2.4586308002471924, 'learning_rate': 1.8449612403100777e-05, 'epoch': 0.07751937984496124}\n",
      "{'loss': 1.0751, 'grad_norm': 2.931312322616577, 'learning_rate': 1.79328165374677e-05, 'epoch': 0.10335917312661498}\n",
      "{'loss': 1.0724, 'grad_norm': 2.6244311332702637, 'learning_rate': 1.7416020671834626e-05, 'epoch': 0.12919896640826872}\n",
      "{'loss': 1.0862, 'grad_norm': 2.222874641418457, 'learning_rate': 1.689922480620155e-05, 'epoch': 0.15503875968992248}\n",
      "{'loss': 1.0337, 'grad_norm': 2.5083720684051514, 'learning_rate': 1.638242894056848e-05, 'epoch': 0.18087855297157623}\n",
      "{'loss': 1.0666, 'grad_norm': 2.437167167663574, 'learning_rate': 1.5865633074935402e-05, 'epoch': 0.20671834625322996}\n",
      "{'loss': 1.059, 'grad_norm': 2.4907188415527344, 'learning_rate': 1.5348837209302328e-05, 'epoch': 0.23255813953488372}\n",
      "{'loss': 1.0401, 'grad_norm': 2.0752193927764893, 'learning_rate': 1.4832041343669253e-05, 'epoch': 0.25839793281653745}\n",
      "{'eval_loss': 1.0209230184555054, 'eval_runtime': 88.526, 'eval_samples_per_second': 10.923, 'eval_steps_per_second': 2.734, 'epoch': 0.25839793281653745}\n",
      "{'loss': 1.0656, 'grad_norm': 2.0514121055603027, 'learning_rate': 1.4315245478036177e-05, 'epoch': 0.2842377260981912}\n",
      "{'loss': 1.048, 'grad_norm': 2.390394926071167, 'learning_rate': 1.3798449612403102e-05, 'epoch': 0.31007751937984496}\n",
      "{'loss': 1.0546, 'grad_norm': 2.734780788421631, 'learning_rate': 1.3281653746770027e-05, 'epoch': 0.3359173126614987}\n",
      "{'loss': 1.0396, 'grad_norm': 2.7974963188171387, 'learning_rate': 1.2764857881136951e-05, 'epoch': 0.36175710594315247}\n",
      "{'loss': 1.0281, 'grad_norm': 2.2594716548919678, 'learning_rate': 1.2248062015503876e-05, 'epoch': 0.3875968992248062}\n",
      "{'loss': 1.0495, 'grad_norm': 2.4099085330963135, 'learning_rate': 1.1731266149870802e-05, 'epoch': 0.4134366925064599}\n",
      "{'loss': 1.0106, 'grad_norm': 2.485525369644165, 'learning_rate': 1.1214470284237727e-05, 'epoch': 0.4392764857881137}\n",
      "{'loss': 1.0426, 'grad_norm': 2.30172061920166, 'learning_rate': 1.0697674418604651e-05, 'epoch': 0.46511627906976744}\n",
      "{'loss': 0.9967, 'grad_norm': 2.2376983165740967, 'learning_rate': 1.0180878552971578e-05, 'epoch': 0.4909560723514212}\n",
      "{'loss': 1.0546, 'grad_norm': 2.1621499061584473, 'learning_rate': 9.664082687338502e-06, 'epoch': 0.5167958656330749}\n",
      "{'eval_loss': 1.0058422088623047, 'eval_runtime': 32.9969, 'eval_samples_per_second': 29.306, 'eval_steps_per_second': 7.334, 'epoch': 0.5167958656330749}\n"
     ]
    },
    {
     "name": "stderr",
     "output_type": "stream",
     "text": [
      "/Users/trevordoucet/Library/Python/3.9/lib/python/site-packages/transformers/modeling_utils.py:3353: UserWarning: Moving the following attributes in the config to the generation config: {'max_length': 142, 'min_length': 56, 'early_stopping': True, 'num_beams': 4, 'length_penalty': 2.0, 'no_repeat_ngram_size': 3, 'forced_bos_token_id': 0}. You are seeing this warning because you've set generation parameters in the model config, as opposed to in the generation config.\n",
      "  warnings.warn(\n"
     ]
    },
    {
     "name": "stdout",
     "output_type": "stream",
     "text": [
      "{'loss': 1.026, 'grad_norm': 2.8309733867645264, 'learning_rate': 9.147286821705427e-06, 'epoch': 0.5426356589147286}\n",
      "{'loss': 1.0403, 'grad_norm': 2.139047622680664, 'learning_rate': 8.630490956072353e-06, 'epoch': 0.5684754521963824}\n",
      "{'loss': 1.0263, 'grad_norm': 2.2116591930389404, 'learning_rate': 8.113695090439278e-06, 'epoch': 0.5943152454780362}\n",
      "{'loss': 1.0354, 'grad_norm': 2.3122243881225586, 'learning_rate': 7.596899224806202e-06, 'epoch': 0.6201550387596899}\n",
      "{'loss': 1.0194, 'grad_norm': 2.2027037143707275, 'learning_rate': 7.080103359173127e-06, 'epoch': 0.6459948320413437}\n",
      "{'loss': 1.0006, 'grad_norm': 2.697519063949585, 'learning_rate': 6.563307493540052e-06, 'epoch': 0.6718346253229974}\n",
      "{'loss': 1.0067, 'grad_norm': 2.9552059173583984, 'learning_rate': 6.046511627906977e-06, 'epoch': 0.6976744186046512}\n",
      "{'loss': 0.9814, 'grad_norm': 2.3788394927978516, 'learning_rate': 5.529715762273902e-06, 'epoch': 0.7235142118863049}\n",
      "{'loss': 1.0052, 'grad_norm': 2.1151604652404785, 'learning_rate': 5.012919896640828e-06, 'epoch': 0.7493540051679587}\n",
      "{'loss': 1.041, 'grad_norm': 2.1743814945220947, 'learning_rate': 4.4961240310077525e-06, 'epoch': 0.7751937984496124}\n",
      "{'eval_loss': 0.9943881034851074, 'eval_runtime': 31.6578, 'eval_samples_per_second': 30.545, 'eval_steps_per_second': 7.644, 'epoch': 0.7751937984496124}\n",
      "{'loss': 1.0333, 'grad_norm': 2.628878355026245, 'learning_rate': 3.979328165374677e-06, 'epoch': 0.8010335917312662}\n",
      "{'loss': 1.0023, 'grad_norm': 2.46604061126709, 'learning_rate': 3.462532299741602e-06, 'epoch': 0.8268733850129198}\n",
      "{'loss': 0.9996, 'grad_norm': 2.0193378925323486, 'learning_rate': 2.9457364341085276e-06, 'epoch': 0.8527131782945736}\n",
      "{'loss': 1.0181, 'grad_norm': 2.3337607383728027, 'learning_rate': 2.4289405684754527e-06, 'epoch': 0.8785529715762274}\n",
      "{'loss': 1.0002, 'grad_norm': 2.3765456676483154, 'learning_rate': 1.9121447028423773e-06, 'epoch': 0.9043927648578811}\n",
      "{'loss': 0.9742, 'grad_norm': 1.9030382633209229, 'learning_rate': 1.3953488372093025e-06, 'epoch': 0.9302325581395349}\n",
      "{'loss': 1.0126, 'grad_norm': 2.3329977989196777, 'learning_rate': 8.785529715762274e-07, 'epoch': 0.9560723514211886}\n",
      "{'loss': 0.9966, 'grad_norm': 2.0787694454193115, 'learning_rate': 3.6175710594315246e-07, 'epoch': 0.9819121447028424}\n"
     ]
    },
    {
     "name": "stderr",
     "output_type": "stream",
     "text": [
      "There were missing keys in the checkpoint model loaded: ['model.encoder.embed_tokens.weight', 'model.decoder.embed_tokens.weight', 'lm_head.weight'].\n"
     ]
    },
    {
     "name": "stdout",
     "output_type": "stream",
     "text": [
      "{'train_runtime': 1247.9755, 'train_samples_per_second': 6.202, 'train_steps_per_second': 1.551, 'total_flos': 4193347405086720.0, 'train_loss': 1.0360884240123345, 'epoch': 1.0}\n"
     ]
    },
    {
     "data": {
      "text/html": [
       "\n",
       "    <div>\n",
       "      \n",
       "      <progress value='242' max='242' style='width:300px; height:20px; vertical-align: middle;'></progress>\n",
       "      [242/242 00:30]\n",
       "    </div>\n",
       "    "
      ],
      "text/plain": [
       "<IPython.core.display.HTML object>"
      ]
     },
     "metadata": {},
     "output_type": "display_data"
    },
    {
     "name": "stdout",
     "output_type": "stream",
     "text": [
      "{'eval_loss': 0.9991085529327393, 'eval_runtime': 30.2647, 'eval_samples_per_second': 31.985, 'eval_steps_per_second': 7.996, 'epoch': 1.0}\n",
      "Evaluation results: {'eval_loss': 0.9991085529327393, 'eval_runtime': 30.2647, 'eval_samples_per_second': 31.985, 'eval_steps_per_second': 7.996, 'epoch': 1.0}\n",
      "Perplexity: 2.715859703853416\n"
     ]
    },
    {
     "data": {
      "image/png": "[encoded data removed]",
      "text/plain": [
       "<Figure size 1000x500 with 1 Axes>"
      ]
     },
     "metadata": {},
     "output_type": "display_data"
    }
   ],
   "source": [
    "# Model\n",
    "model_name = \"facebook/bart-large-cnn\"\n",
    "tokenizer = BartTokenizer.from_pretrained(model_name)\n",
    "model = BartForConditionalGeneration.from_pretrained(model_name)\n",
    "tokenizer.pad_token = tokenizer.eos_token\n",
    "model.config.pad_token_id = tokenizer.eos_token_id\n",
    "\n",
    "# Hugging face dataset conversion\n",
    "dataset = Dataset.from_pandas(df[[\"prompt\", \"plot\"]])\n",
    "\n",
    "# T\n",
    "# rain, test, validate splits\n",
    "split_dataset = dataset.train_test_split(test_size=0.2)\n",
    "test_validation = split_dataset['test'].train_test_split(test_size=0.5)\n",
    "dataset = DatasetDict({\n",
    "    \"train\": split_dataset['train'],\n",
    "    \"validation\": test_validation['train'],\n",
    "    \"test\": test_validation[\"test\"]\n",
    "})\n",
    "\n",
    "# Input and target processing\n",
    "def preprocess(examples):\n",
    "    inputs = examples[\"prompt\"]\n",
    "    targets = examples[\"plot\"]\n",
    "    \n",
    "    # Tokenize\n",
    "    model_inputs = tokenizer(inputs, max_length=256, truncation=True, padding=\"max_length\")\n",
    "    with tokenizer.as_target_tokenizer():\n",
    "        labels = tokenizer(targets, max_length=256, truncation=True, padding=\"max_length\")\n",
    "    model_inputs[\"labels\"] = labels[\"input_ids\"]\n",
    "    \n",
    "    return model_inputs\n",
    "\n",
    "tokenized_datasets = dataset.map(preprocess, batched=True, remove_columns=[\"prompt\", \"plot\"])\n",
    "\n",
    "# Logging for plotting\n",
    "class LogCallback(TrainerCallback):\n",
    "    def __init__(self):\n",
    "        self.train_losses = []\n",
    "        self.eval_losses = []\n",
    "        self.steps = []\n",
    "\n",
    "    def on_log(self, args, state, control, logs=None, **kwargs):\n",
    "        if logs is not None:\n",
    "            # Loss\n",
    "            if \"loss\" in logs:\n",
    "                self.train_losses.append(logs[\"loss\"])\n",
    "                self.steps.append(state.global_step)\n",
    "            if \"eval_loss\" in logs:\n",
    "                self.eval_losses.append(logs[\"eval_loss\"])\n",
    "            print(logs) \\\n",
    "\n",
    "log_callback = LogCallback()\n",
    "\n",
    "# Training Args\n",
    "training_arguments = TrainingArguments(\n",
    "    output_dir=\"../models/model_logs/results_bart\",\n",
    "    evaluation_strategy=\"steps\",\n",
    "    eval_steps=500,              \n",
    "    logging_steps=50,            \n",
    "    logging_dir=\"../models/model_logs/logs_bart\",\n",
    "    per_device_train_batch_size=4,\n",
    "    per_device_eval_batch_size=4,\n",
    "    num_train_epochs=1,\n",
    "    save_strategy='steps',\n",
    "    save_steps=1000,\n",
    "    save_total_limit=2,\n",
    "    learning_rate=2e-5,\n",
    "    weight_decay=0.01,\n",
    "    report_to=[\"tensorboard\"],\n",
    "    load_best_model_at_end=True, \n",
    "    metric_for_best_model=\"eval_loss\",\n",
    ")\n",
    "\n",
    "# Trainer setup\n",
    "trainer = Trainer(\n",
    "    model=model,\n",
    "    args=training_arguments,\n",
    "    train_dataset=tokenized_datasets[\"train\"],\n",
    "    eval_dataset=tokenized_datasets[\"validation\"],\n",
    "    tokenizer=tokenizer,\n",
    "    callbacks=[EarlyStoppingCallback(early_stopping_patience=1), log_callback]\n",
    ")\n",
    "\n",
    "# Fine-tune\n",
    "trainer.train()\n",
    "\n",
    "# Evaluate \n",
    "results = trainer.evaluate(tokenized_datasets[\"test\"])\n",
    "print(\"Evaluation results:\", results)\n",
    "\n",
    "eval_loss = results['eval_loss']\n",
    "perplexity = math.exp(eval_loss)\n",
    "print(\"Perplexity:\", perplexity)\n",
    "\n",
    "# Plotting\n",
    "plt.figure(figsize=(10, 5))\n",
    "plt.plot(log_callback.steps, log_callback.train_losses, label=\"Train Loss\")\n",
    "if log_callback.eval_losses:\n",
    "    eval_steps = list(range(training_arguments.eval_steps, training_arguments.eval_steps * (len(log_callback.eval_losses) + 1), training_arguments.eval_steps))\n",
    "    plt.plot(eval_steps, log_callback.eval_losses, label=\"Eval Loss\", marker='o', linestyle='--')\n",
    "plt.xlabel(\"Global Steps\")\n",
    "plt.ylabel(\"Loss\")\n",
    "plt.title(\"Training and Evaluation Losses\")\n",
    "plt.legend()\n",
    "plt.show()\n"
   ]
  },
  {
   "cell_type": "markdown",
   "metadata": {},
   "source": [
    "Save"
   ]
  },
  {
   "cell_type": "code",
   "execution_count": 49,
   "metadata": {},
   "outputs": [
    {
     "data": {
      "text/plain": [
       "('../models/saved_models/bart/trained_bart_model/tokenizer_config.json',\n",
       " '../models/saved_models/bart/trained_bart_model/special_tokens_map.json',\n",
       " '../models/saved_models/bart/trained_bart_model/vocab.json',\n",
       " '../models/saved_models/bart/trained_bart_model/merges.txt',\n",
       " '../models/saved_models/bart/trained_bart_model/added_tokens.json')"
      ]
     },
     "execution_count": 49,
     "metadata": {},
     "output_type": "execute_result"
    }
   ],
   "source": [
    "trainer.save_model(\"../models/saved_models/bart/trained_bart_model\")\n",
    "tokenizer.save_pretrained(\"../models/saved_models/bart/trained_bart_model\")"
   ]
  },
  {
   "cell_type": "markdown",
   "metadata": {},
   "source": [
    "## Model Load"
   ]
  },
  {
   "cell_type": "code",
   "execution_count": 9,
   "metadata": {},
   "outputs": [
    {
     "data": {
      "text/plain": [
       "BartForConditionalGeneration(\n",
       "  (model): BartModel(\n",
       "    (shared): BartScaledWordEmbedding(50264, 1024, padding_idx=2)\n",
       "    (encoder): BartEncoder(\n",
       "      (embed_tokens): BartScaledWordEmbedding(50264, 1024, padding_idx=2)\n",
       "      (embed_positions): BartLearnedPositionalEmbedding(1026, 1024)\n",
       "      (layers): ModuleList(\n",
       "        (0-11): 12 x BartEncoderLayer(\n",
       "          (self_attn): BartSdpaAttention(\n",
       "            (k_proj): Linear(in_features=1024, out_features=1024, bias=True)\n",
       "            (v_proj): Linear(in_features=1024, out_features=1024, bias=True)\n",
       "            (q_proj): Linear(in_features=1024, out_features=1024, bias=True)\n",
       "            (out_proj): Linear(in_features=1024, out_features=1024, bias=True)\n",
       "          )\n",
       "          (self_attn_layer_norm): LayerNorm((1024,), eps=1e-05, elementwise_affine=True)\n",
       "          (activation_fn): GELUActivation()\n",
       "          (fc1): Linear(in_features=1024, out_features=4096, bias=True)\n",
       "          (fc2): Linear(in_features=4096, out_features=1024, bias=True)\n",
       "          (final_layer_norm): LayerNorm((1024,), eps=1e-05, elementwise_affine=True)\n",
       "        )\n",
       "      )\n",
       "      (layernorm_embedding): LayerNorm((1024,), eps=1e-05, elementwise_affine=True)\n",
       "    )\n",
       "    (decoder): BartDecoder(\n",
       "      (embed_tokens): BartScaledWordEmbedding(50264, 1024, padding_idx=2)\n",
       "      (embed_positions): BartLearnedPositionalEmbedding(1026, 1024)\n",
       "      (layers): ModuleList(\n",
       "        (0-11): 12 x BartDecoderLayer(\n",
       "          (self_attn): BartSdpaAttention(\n",
       "            (k_proj): Linear(in_features=1024, out_features=1024, bias=True)\n",
       "            (v_proj): Linear(in_features=1024, out_features=1024, bias=True)\n",
       "            (q_proj): Linear(in_features=1024, out_features=1024, bias=True)\n",
       "            (out_proj): Linear(in_features=1024, out_features=1024, bias=True)\n",
       "          )\n",
       "          (activation_fn): GELUActivation()\n",
       "          (self_attn_layer_norm): LayerNorm((1024,), eps=1e-05, elementwise_affine=True)\n",
       "          (encoder_attn): BartSdpaAttention(\n",
       "            (k_proj): Linear(in_features=1024, out_features=1024, bias=True)\n",
       "            (v_proj): Linear(in_features=1024, out_features=1024, bias=True)\n",
       "            (q_proj): Linear(in_features=1024, out_features=1024, bias=True)\n",
       "            (out_proj): Linear(in_features=1024, out_features=1024, bias=True)\n",
       "          )\n",
       "          (encoder_attn_layer_norm): LayerNorm((1024,), eps=1e-05, elementwise_affine=True)\n",
       "          (fc1): Linear(in_features=1024, out_features=4096, bias=True)\n",
       "          (fc2): Linear(in_features=4096, out_features=1024, bias=True)\n",
       "          (final_layer_norm): LayerNorm((1024,), eps=1e-05, elementwise_affine=True)\n",
       "        )\n",
       "      )\n",
       "      (layernorm_embedding): LayerNorm((1024,), eps=1e-05, elementwise_affine=True)\n",
       "    )\n",
       "  )\n",
       "  (lm_head): Linear(in_features=1024, out_features=50264, bias=False)\n",
       ")"
      ]
     },
     "execution_count": 9,
     "metadata": {},
     "output_type": "execute_result"
    }
   ],
   "source": [
    "# Model load\n",
    "os.environ[\"PYTORCH_ENABLE_MPS_FALLBACK\"] = \"1\"\n",
    "bart_model_path = \"../models/saved_models/bart/trained_bart_model\"\n",
    "bart_tokenizer = BartTokenizer.from_pretrained(bart_model_path, local_files_only=True)\n",
    "bart_model = BartForConditionalGeneration.from_pretrained(bart_model_path, local_files_only=True)\n",
    "device = torch.device(\"cpu\")\n",
    "bart_model.to(device)"
   ]
  },
  {
   "cell_type": "markdown",
   "metadata": {},
   "source": [
    "## Output Testing"
   ]
  },
  {
   "cell_type": "code",
   "execution_count": 19,
   "metadata": {},
   "outputs": [
    {
     "name": "stdout",
     "output_type": "stream",
     "text": [
      "Prompt:\n",
      "Imagine a movie plot idea for 'The Traveler': \n",
      "Generated Text:\n",
      "A young woman travels to a remote village in the South of France to stay with her father, but finds herself in a dangerous situation when she is attacked by a violent man and her mother. She is forced to flee and must find a way to escape before she dies.\n"
     ]
    }
   ],
   "source": [
    "prompt_prefix = \"Imagine a movie plot idea for '\"\n",
    "prompts = [\n",
    "    \"The Traveler\"\n",
    "]\n",
    "\n",
    "for prompt in prompts:\n",
    "    full_prompt = prompt_prefix + prompt + \"': \"\n",
    "    \n",
    "    # Encoding\n",
    "    input_ids = bart_tokenizer.encode(full_prompt, return_tensors=\"pt\", max_length=256, truncation=True)\n",
    "    input_ids = input_ids.to(device)\n",
    "    \n",
    "    # Generate\n",
    "    outputs = bart_model.generate(\n",
    "        input_ids,\n",
    "        min_length=40,\n",
    "        max_length=80,\n",
    "        do_sample=True,\n",
    "        top_k=50,\n",
    "        top_p=0.95,\n",
    "        no_repeat_ngram_size=3,\n",
    "        temperature=0.5\n",
    "    )\n",
    "\n",
    "    # Decoding\n",
    "    generated_text = bart_tokenizer.decode(outputs[0], skip_special_tokens=True)\n",
    "    \n",
    "    print(\"Prompt:\")\n",
    "    print(full_prompt)\n",
    "    print(\"Generated Text:\")\n",
    "    print(generated_text)"
   ]
  },
  {
   "cell_type": "markdown",
   "metadata": {},
   "source": [
    "## Evaluations"
   ]
  },
  {
   "cell_type": "code",
   "execution_count": 16,
   "metadata": {},
   "outputs": [
    {
     "name": "stdout",
     "output_type": "stream",
     "text": [
      "Trial  1: rougeL_f = 0.1643   (best = 0.1643)\n",
      "Trial  2: rougeL_f = 0.1442   (best = 0.1643)\n",
      "Trial  3: rougeL_f = 0.1361   (best = 0.1643)\n",
      "Trial  4: rougeL_f = 0.1389   (best = 0.1643)\n",
      "Trial  5: rougeL_f = 0.1441   (best = 0.1643)\n",
      "\n",
      "Top 5 configs by ROUGE‑L F1:\n",
      "    temperature  min_length  max_length  top_k  top_p  no_repeat_ngram_size  \\\n",
      "0         0.50          40          80     50   0.95                     3   \n",
      "5         0.01          40          80      0   0.80                     2   \n",
      "1         0.80          50          60      0   0.80                     2   \n",
      "4         0.80          50          60     50   0.95                     2   \n",
      "3         0.80          40          80      0   0.95                     3   \n",
      "\n",
      "   rougeL_f  \n",
      "0  0.164267  \n",
      "5  0.156882  \n",
      "1  0.144175  \n",
      "4  0.144095  \n",
      "3  0.138910  \n"
     ]
    }
   ],
   "source": [
    "bart_model.to(\"cpu\")\n",
    "\n",
    "# Split\n",
    "df = pd.read_excel(\"../data/final_descriptions.xlsx\")\n",
    "train_df, temp_df = train_test_split(df, test_size=0.2, random_state=42)\n",
    "val_df, test_df  = train_test_split(temp_df, test_size=0.5, random_state=42)\n",
    "\n",
    "# Due to the limited resources, randomly sample 50 validaiton rows for evaluation\n",
    "n_sample   = min(50, len(val_df))\n",
    "val_sample = val_df.sample(n=n_sample, random_state=42).reset_index(drop=True)\n",
    "\n",
    "# Search space with possible parameters\n",
    "param_space = {\n",
    "    \"temperature\": [0.01, 0.5, 0.8],\n",
    "    \"min_length\": [40, 50],\n",
    "    \"max_length\": [60, 80],\n",
    "    \"top_k\": [0, 50],\n",
    "    \"top_p\":  [0.8, 0.95],\n",
    "    \"no_repeat_ngram_size\": [2, 3],\n",
    "}\n",
    "\n",
    "def sample_config():\n",
    "    cfg = {k: random.choice(v) for k, v in param_space.items()}\n",
    "    if cfg[\"max_length\"] <= cfg[\"min_length\"]:\n",
    "        cfg[\"max_length\"] = cfg[\"min_length\"] + 10\n",
    "    return cfg\n",
    "\n",
    "# Rouge load\n",
    "rouge = load_metric(\"rouge\")\n",
    "\n",
    "# Trials with early stopping\n",
    "max_trials = 20\n",
    "patience   = 5\n",
    "best_score = 0.0\n",
    "no_improve = 0\n",
    "records    = []\n",
    "\n",
    "for trial in range(1, max_trials + 1):\n",
    "    cfg = sample_config()\n",
    "    preds, refs = [], []\n",
    "\n",
    "    # Generate for each sample\n",
    "    for _, row in val_sample.iterrows():\n",
    "        inputs = bart_tokenizer(\n",
    "            row[\"prompt\"],\n",
    "            return_tensors=\"pt\",\n",
    "            truncation=True,\n",
    "            padding=\"max_length\",\n",
    "            max_length=256\n",
    "        )\n",
    "        out_ids = bart_model.generate(\n",
    "            **inputs,\n",
    "            do_sample=True,\n",
    "            temperature=cfg[\"temperature\"],\n",
    "            min_length=cfg[\"min_length\"],\n",
    "            max_length=cfg[\"max_length\"],\n",
    "            top_k=cfg[\"top_k\"],\n",
    "            top_p=cfg[\"top_p\"],\n",
    "            no_repeat_ngram_size=cfg[\"no_repeat_ngram_size\"],\n",
    "        )\n",
    "\n",
    "        preds.append(bart_tokenizer.decode(out_ids[0], skip_special_tokens=True))\n",
    "        refs.append(row[\"plot\"])\n",
    "\n",
    "    # Rouge computation\n",
    "    scores   = rouge.compute(predictions=preds, references=refs, use_stemmer=True)\n",
    "    rougeL_f = scores[\"rougeL\"]\n",
    "    records.append({**cfg, \"rougeL_f\": rougeL_f})\n",
    "\n",
    "    # Early stopping for best score\n",
    "    if rougeL_f > best_score:\n",
    "        best_score = rougeL_f\n",
    "        no_improve = 0\n",
    "    else:\n",
    "        no_improve += 1\n",
    "        if no_improve >= patience:\n",
    "            break\n",
    "\n",
    "    # Print trial stats\n",
    "    print(f\"Trial {trial:2d}: rougeL_f = {rougeL_f:.4f}   (best = {best_score:.4f})\")\n",
    "\n",
    "# Save and top 5 configurations\n",
    "df_results = pd.DataFrame(records)\n",
    "print(\"\\nTop 5 configs by ROUGE‑L F1:\\n\", df_results.sort_values(\"rougeL_f\", ascending=False).head(5))\n",
    "df_results.to_excel(\"../output_summaries/random_search_rouge_baseline.xlsx\", index=False)"
   ]
  },
  {
   "cell_type": "markdown",
   "metadata": {},
   "source": [
    "## Cosine similarity analysis from generated text and training data"
   ]
  },
  {
   "cell_type": "code",
   "execution_count": 72,
   "metadata": {},
   "outputs": [
    {
     "name": "stdout",
     "output_type": "stream",
     "text": [
      "Top 4 genres: ['comedy', 'drama', 'horror', 'thriller']\n"
     ]
    },
    {
     "name": "stderr",
     "output_type": "stream",
     "text": [
      "/var/folders/c9/nckl2xts1ys2_knbj2y1562h0000gn/T/ipykernel_12239/933167731.py:20: DeprecationWarning: DataFrameGroupBy.apply operated on the grouping columns. This behavior is deprecated, and in a future version of pandas the grouping columns will be excluded from the operation. Either pass `include_groups=False` to exclude the groupings or explicitly select the grouping columns after groupby to silence this warning.\n",
      "  filtered\n"
     ]
    },
    {
     "data": {
      "text/plain": [
       "Genre\n",
       "unknown                          6083\n",
       "drama                            5964\n",
       "comedy                           4379\n",
       "horror                           1167\n",
       "action                           1098\n",
       "                                 ... \n",
       "cbc-tv miniseries                   1\n",
       "bio-drama                           1\n",
       "national film board docudrama       1\n",
       "cult drama                          1\n",
       "horror romantic comedy              1\n",
       "Name: count, Length: 2265, dtype: int64"
      ]
     },
     "execution_count": 72,
     "metadata": {},
     "output_type": "execute_result"
    }
   ],
   "source": [
    "wiki_plots = pd.read_csv('../data/imbd_wikipedia_movie_plots.csv')\n",
    "genre_df = pd.merge(df, wiki_plots, how='left', left_on='title', right_on='Title')\n",
    "genre_df.dropna()\n",
    "\n",
    "top4 = (\n",
    "    genre_df[\"Genre\"]\n",
    "      .value_counts()               \n",
    "      .drop(labels=\"unknown\", errors=\"ignore\") \n",
    "      .nlargest(4)               \n",
    "      .index     \n",
    ")\n",
    "\n",
    "print(\"Top 4 genres:\", list(top4))\n",
    "\n",
    "# Most popular genres\n",
    "filtered = genre_df[genre_df[\"Genre\"].isin(top4)]\n",
    "\n",
    "# 100 rows per genre\n",
    "sampled = (\n",
    "    filtered\n",
    "      .groupby(\"Genre\", group_keys=False)     \n",
    "      .apply(lambda grp: grp.sample(n=100, random_state=42))\n",
    "      .reset_index(drop=True)\n",
    ")\n",
    "\n",
    "genre_df_sampled = sampled[['title', 'plot', 'prompt', 'Genre']]\n",
    "wiki_plots.Genre.value_counts()"
   ]
  },
  {
   "cell_type": "code",
   "execution_count": 68,
   "metadata": {},
   "outputs": [
    {
     "name": "stdout",
     "output_type": "stream",
     "text": [
      "Top 5 Most Similar:\n",
      "                                                 title  cosine_score\n",
      "151  Imagine a movie plot idea for 'The Night of Co...      0.492458\n",
      "203       Imagine a movie plot idea for 'End of Days':      0.465570\n",
      "62         Imagine a movie plot idea for 'Radio Days':      0.447940\n",
      "387        Imagine a movie plot idea for 'Ghost Ship':      0.443258\n",
      "216         Imagine a movie plot idea for 'Catacombs':      0.438967\n",
      "\n",
      "Top 5 Least Similar:\n",
      "                                               title  cosine_score\n",
      "222     Imagine a movie plot idea for 'The Hitcher':      0.011837\n",
      "101     Imagine a movie plot idea for 'Chowringhee':      0.024029\n",
      "277      Imagine a movie plot idea for 'Unfriended':      0.049679\n",
      "378  Imagine a movie plot idea for 'The Salamander':      0.055569\n",
      "312      Imagine a movie plot idea for 'Blind Date':      0.055628\n"
     ]
    }
   ],
   "source": [
    "# Best config from Rouge scoring\n",
    "cfg = {\n",
    "    \"temperature\": 0.5,\n",
    "    \"min_length\": 40,\n",
    "    \"max_length\": 80,\n",
    "    \"top_k\": 50,\n",
    "    \"top_p\": 0.95,\n",
    "    \"no_repeat_ngram_size\": 3,\n",
    "}\n",
    "\n",
    "records = []\n",
    "\n",
    "for _, row in genre_df_sampled.iterrows():\n",
    "    title = row[\"prompt\"]\n",
    "    base_plot = row[\"plot\"]\n",
    "    genre = row[\"Genre\"]\n",
    "\n",
    "    # Summary generator\n",
    "    inputs = bart_tokenizer(\n",
    "        title,\n",
    "        return_tensors=\"pt\",\n",
    "        truncation=True,\n",
    "        padding=\"max_length\",\n",
    "        max_length=256\n",
    "    )\n",
    "    out_ids = bart_model.generate(\n",
    "        **inputs,\n",
    "        do_sample=True,\n",
    "        **cfg\n",
    "    )\n",
    "    gen_plot = bart_tokenizer.decode(out_ids[0], skip_special_tokens=True)\n",
    "\n",
    "    # Compute cosine similarity\n",
    "    tfidf = TfidfVectorizer().fit([base_plot, gen_plot])\n",
    "    v_base, v_gen = tfidf.transform([base_plot, gen_plot])\n",
    "    score = float(cosine_similarity(v_base, v_gen)[0,0])\n",
    "\n",
    "    records.append({\n",
    "        \"title\": title,\n",
    "        \"base_plot\": base_plot,\n",
    "        \"generated_plot\": gen_plot,\n",
    "        \"cosine_score\": score,\n",
    "        \"genre\": genre\n",
    "    })\n",
    "\n",
    "\n",
    "df_sim = pd.DataFrame(records)\n",
    "\n",
    "# Print\n",
    "print(\"Top 5 Most Similar:\")\n",
    "print(df_sim.nlargest(5, \"cosine_score\")[[\"title\",\"cosine_score\"]])\n",
    "\n",
    "print(\"\\nTop 5 Least Similar:\")\n",
    "print(df_sim.nsmallest(5, \"cosine_score\")[[\"title\",\"cosine_score\"]])\n",
    "\n",
    "df_sim.to_excel(\"../output_summaries/plot_similarity_per_title.xlsx\", index=False)"
   ]
  },
  {
   "cell_type": "code",
   "execution_count": 69,
   "metadata": {},
   "outputs": [
    {
     "data": {
      "image/png": "[encoded data removed]",
      "text/plain": [
       "<Figure size 1000x600 with 1 Axes>"
      ]
     },
     "metadata": {},
     "output_type": "display_data"
    }
   ],
   "source": [
    "df_sim = pd.read_excel(\"../output_summaries/plot_similarity_per_title.xlsx\")\n",
    "\n",
    "# Boxplot by Genre\n",
    "fig, ax = plt.subplots(figsize=(10, 6))\n",
    "df_sim.boxplot(column=\"cosine_score\", by=\"genre\", ax=ax)\n",
    "ax.set_title(\"Distribution of Cosine Similarity Scores by Genre\")\n",
    "ax.set_xlabel(\"Genre\")\n",
    "ax.set_ylabel(\"Cosine Similarity\")\n",
    "plt.suptitle(\"\")\n",
    "plt.xticks(rotation=45)\n",
    "plt.tight_layout()\n",
    "plt.show()"
   ]
  }
 ],
 "metadata": {
  "kernelspec": {
   "display_name": "Python 3",
   "language": "python",
   "name": "python3"
  },
  "language_info": {
   "codemirror_mode": {
    "name": "ipython",
    "version": 3
   },
   "file_extension": ".py",
   "mimetype": "text/x-python",
   "name": "python",
   "nbconvert_exporter": "python",
   "pygments_lexer": "ipython3",
   "version": "3.9.6"
  }
 },
 "nbformat": 4,
 "nbformat_minor": 2
}
